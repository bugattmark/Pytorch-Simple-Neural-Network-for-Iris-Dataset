{
 "cells": [
  {
   "cell_type": "code",
   "execution_count": 337,
   "metadata": {},
   "outputs": [],
   "source": [
    "import torch\n",
    "import torch.nn as nn\n",
    "import torch.nn.functional as F\n",
    "from torch.utils.data import DataLoader, TensorDataset\n",
    "import time\n",
    "\n",
    "import pandas as pd\n",
    "import matplotlib.pyplot as plt\n",
    "from sklearn import datasets\n",
    "from sklearn.model_selection import train_test_split\n"
   ]
  },
  {
   "cell_type": "code",
   "execution_count": 338,
   "metadata": {},
   "outputs": [],
   "source": [
    "#input layer (4 features)\n",
    "#-> hidden layer 1 (8)\n",
    "#-> hidden layer 2 (9)\n",
    "#-> output (3 classes)\n",
    "\n",
    "class Model(nn.Module):\n",
    "    def __init__(self,in_features=4, h1=8, h2=9, out_features=3):\n",
    "        super().__init__() #instanciate NN.module\n",
    "        self.fc1 = nn.Linear(in_features,h1)\n",
    "        self.fc2 = nn.Linear(h1,h2)\n",
    "        self.out = nn.Linear(h2,out_features)\n",
    "    \n",
    "    def forward(self,x):\n",
    "        x = F.relu(self.fc1(x))\n",
    "        x = F.relu(self.fc2(x))\n",
    "        x = self.out(x)\n",
    "    \n",
    "        return x"
   ]
  },
  {
   "cell_type": "code",
   "execution_count": 339,
   "metadata": {},
   "outputs": [],
   "source": [
    "#I tried overfitting the model with overly complex model\n",
    "\n",
    "class OverfitModel(nn.Module):\n",
    "    def __init__(self,in_features=4, h1=128, h2=128, h3=128, out_features=3):\n",
    "        super().__init__() #instanciate NN.module\n",
    "        self.fc1 = nn.Linear(in_features,h1)\n",
    "        self.fc2 = nn.Linear(h1,h2)\n",
    "        self.fc3 = nn.Linear(h2,h3)\n",
    "        self.out = nn.Linear(h3,out_features)\n",
    "    \n",
    "    def forward(self,x):\n",
    "        x = F.relu(self.fc1(x))\n",
    "        x = F.relu(self.fc2(x))\n",
    "        x = F.relu(self.fc3(x))\n",
    "        x = self.out(x)\n",
    "    \n",
    "        return x"
   ]
  },
  {
   "cell_type": "code",
   "execution_count": 340,
   "metadata": {},
   "outputs": [],
   "source": [
    "#seed\n",
    "torch.manual_seed(42)\n",
    "#model instance\n",
    "model = Model()\n",
    "# model = OverfitModel()"
   ]
  },
  {
   "cell_type": "code",
   "execution_count": 341,
   "metadata": {},
   "outputs": [],
   "source": [
    "iris = datasets.load_iris()\n",
    "x = iris.data\n",
    "y = iris.target"
   ]
  },
  {
   "cell_type": "code",
   "execution_count": 342,
   "metadata": {},
   "outputs": [],
   "source": [
    "x_train,x_test,y_train,y_test = train_test_split(x,y,test_size=0.2,random_state=42) #it would be better to do split train set into training and eval to adjust param"
   ]
  },
  {
   "cell_type": "code",
   "execution_count": 343,
   "metadata": {},
   "outputs": [
    {
     "data": {
      "text/plain": [
       "((120, 4), (120,))"
      ]
     },
     "execution_count": 343,
     "metadata": {},
     "output_type": "execute_result"
    }
   ],
   "source": [
    "x_train.shape, y_train.shape"
   ]
  },
  {
   "cell_type": "code",
   "execution_count": 344,
   "metadata": {},
   "outputs": [],
   "source": [
    "x_train,x_test = torch.FloatTensor(x_train),torch.FloatTensor(x_test)"
   ]
  },
  {
   "cell_type": "code",
   "execution_count": 345,
   "metadata": {},
   "outputs": [],
   "source": [
    "y_train,y_test = torch.LongTensor(y_train),torch.LongTensor(y_test)"
   ]
  },
  {
   "cell_type": "code",
   "execution_count": 346,
   "metadata": {},
   "outputs": [],
   "source": [
    "criterion = nn.CrossEntropyLoss()\n",
    "optimizer = torch.optim.Adam(model.parameters(), lr=0.01, weight_decay=0.005) #0.001 for overfit model"
   ]
  },
  {
   "cell_type": "code",
   "execution_count": 347,
   "metadata": {},
   "outputs": [
    {
     "name": "stdout",
     "output_type": "stream",
     "text": [
      "Epoch: 0 | Loss: 1.0846974849700928\n",
      "Epoch: 10 | Loss: 0.909690260887146\n",
      "Epoch: 20 | Loss: 0.7275701761245728\n",
      "Epoch: 30 | Loss: 0.5119953751564026\n",
      "Epoch: 40 | Loss: 0.31572046875953674\n",
      "Epoch: 50 | Loss: 0.14469553530216217\n",
      "Epoch: 60 | Loss: 0.07779555022716522\n",
      "Epoch: 70 | Loss: 0.06435727328062057\n",
      "Epoch: 80 | Loss: 0.06133686751127243\n",
      "Epoch: 90 | Loss: 0.060605812817811966\n",
      "Epoch: 100 | Loss: 0.06080344691872597\n",
      "Epoch: 110 | Loss: 0.061322811990976334\n",
      "Epoch: 120 | Loss: 0.06171952188014984\n",
      "Epoch: 130 | Loss: 0.0618630051612854\n",
      "Epoch: 140 | Loss: 0.061791811138391495\n",
      "Epoch: 150 | Loss: 0.061664048582315445\n",
      "Epoch: 160 | Loss: 0.06143493577837944\n",
      "Epoch: 170 | Loss: 0.06119073927402496\n",
      "Epoch: 180 | Loss: 0.06106628105044365\n",
      "Epoch: 190 | Loss: 0.061030901968479156\n",
      "Time: 0.28700s, Loss: 0.061288271099328995')\n"
     ]
    }
   ],
   "source": [
    "epochs = 200 #20000 for overfit\n",
    "losses = []\n",
    "start_time = time.time()\n",
    "for i in range(epochs):\n",
    "    y_pred = model.forward(x_train) #forward propagation and get a prediction\n",
    "    loss = criterion(y_pred,y_train) #predicted values vs y_train\n",
    "    losses.append(loss.detach().numpy()) #keep track of losses\n",
    "    if i % 10 == 0:\n",
    "        print(f'Epoch: {i} | Loss: {loss}')\n",
    "\n",
    "    #backpropagation\n",
    "    optimizer.zero_grad()\n",
    "    loss.backward()\n",
    "    optimizer.step()\n",
    "end_time = time.time()\n",
    "print(f\"Time: {end_time-start_time:.5f}s, Loss: {loss}')\")"
   ]
  },
  {
   "cell_type": "code",
   "execution_count": 348,
   "metadata": {},
   "outputs": [
    {
     "data": {
      "text/plain": [
       "Text(0.5, 0, 'epoch')"
      ]
     },
     "execution_count": 348,
     "metadata": {},
     "output_type": "execute_result"
    },
    {
     "data": {
      "image/png": "[encoded data removed]",
      "text/plain": [
       "<Figure size 640x480 with 1 Axes>"
      ]
     },
     "metadata": {},
     "output_type": "display_data"
    }
   ],
   "source": [
    "plt.plot(range(epochs),losses)\n",
    "plt.ylabel('loss')\n",
    "plt.xlabel('epoch')"
   ]
  },
  {
   "cell_type": "code",
   "execution_count": 349,
   "metadata": {},
   "outputs": [],
   "source": [
    "# dataset = TensorDataset(x_train,y_train)\n",
    "# train_loader = DataLoader(dataset, batch_size=32, shuffle=True)"
   ]
  },
  {
   "cell_type": "code",
   "execution_count": 350,
   "metadata": {},
   "outputs": [],
   "source": [
    "# epochs = 125\n",
    "# losses = []\n",
    "# start_time = time.time()\n",
    "# for i in range(epochs):\n",
    "#     for xb, yb in train_loader:\n",
    "#         y_pred = model(xb) #forward propagation and get a prediction\n",
    "#         loss = criterion(y_pred,yb) #predicted values vs y_train\n",
    "#         losses.append(loss.item()) #keep track of losses\n",
    "#         print(f'Epoch: {i} | Loss: {loss}')\n",
    "\n",
    "#         #backpropagation\n",
    "#         optimizer.zero_grad()\n",
    "#         loss.backward()\n",
    "#         optimizer.step()\n",
    "# end_time = time.time()\n",
    "# print(f\"Time: {end_time-start_time:.5f}s\")"
   ]
  },
  {
   "cell_type": "code",
   "execution_count": 351,
   "metadata": {},
   "outputs": [],
   "source": [
    "# plt.plot([i for i in range(500)],losses)\n",
    "# plt.ylabel('loss')\n",
    "# plt.xlabel('epoch')"
   ]
  },
  {
   "cell_type": "code",
   "execution_count": 352,
   "metadata": {},
   "outputs": [],
   "source": [
    "with torch.no_grad():    \n",
    "    y_forloss = model.forward(x_test)\n",
    "    loss = criterion(y_forloss, y_forloss)"
   ]
  },
  {
   "cell_type": "code",
   "execution_count": 353,
   "metadata": {},
   "outputs": [
    {
     "data": {
      "text/plain": [
       "tensor(-101.1286)"
      ]
     },
     "execution_count": 353,
     "metadata": {},
     "output_type": "execute_result"
    }
   ],
   "source": [
    "loss #quite close to test set error"
   ]
  },
  {
   "cell_type": "code",
   "execution_count": 356,
   "metadata": {},
   "outputs": [
    {
     "name": "stdout",
     "output_type": "stream",
     "text": [
      "1.) tensor([-2.2105,  4.9802,  0.5863]) 1\n",
      "2.) tensor([  9.8291,   3.3384, -11.9940]) 0\n",
      "3.) tensor([-9.3269, -0.3302, 10.8624]) 2\n",
      "4.) tensor([-2.4230,  4.4904,  1.0373]) 1\n",
      "5.) tensor([-2.5261,  5.2121,  0.8293]) 1\n",
      "6.) tensor([  9.0481,   3.1517, -11.0485]) 0\n",
      "7.) tensor([ 0.1964,  4.9499, -2.0779]) 1\n",
      "8.) tensor([-5.2252,  2.5037,  5.0319]) 2\n",
      "9.) tensor([-3.7013,  3.3640,  2.9671]) 1\n",
      "10.) tensor([-0.6448,  5.3028, -1.3215]) 1\n",
      "11.) tensor([-4.4544,  3.0481,  3.9352]) 2\n",
      "12.) tensor([  8.7119,   2.8960, -10.5674]) 0\n",
      "13.) tensor([ 10.0673,   3.1588, -12.1359]) 0\n",
      "14.) tensor([  8.7913,   2.9633, -10.6943]) 0\n",
      "15.) tensor([  9.7092,   3.0091, -11.6720]) 0\n",
      "16.) tensor([-2.1957,  5.0399,  0.5346]) 1\n",
      "17.) tensor([-7.1586,  0.6243,  8.0226]) 2\n",
      "18.) tensor([-0.9120,  5.1946, -0.9729]) 1\n",
      "19.) tensor([-2.2741,  4.4611,  0.8888]) 1\n",
      "20.) tensor([-7.0543,  0.5074,  7.9604]) 2\n",
      "21.) tensor([  8.3690,   2.9092, -10.2004]) 0\n",
      "22.) tensor([-4.0598,  3.0724,  3.4895]) 2\n",
      "23.) tensor([  8.5001,   3.0261, -10.3856]) 0\n",
      "24.) tensor([-6.8899,  0.7565,  7.6646]) 2\n",
      "25.) tensor([-5.5923,  3.7468,  4.8845]) 2\n",
      "26.) tensor([-5.8414,  1.7867,  6.0399]) 2\n",
      "27.) tensor([-6.9667,  1.1278,  7.5925]) 2\n",
      "28.) tensor([-7.1939,  0.9092,  7.9378]) 2\n",
      "29.) tensor([  8.2953,   2.8717, -10.1006]) 0\n",
      "30.) tensor([  8.2249,   2.9825, -10.0772]) 0\n",
      "30\n"
     ]
    }
   ],
   "source": [
    "correct = 0\n",
    "with torch.no_grad():\n",
    "    for i, data in enumerate(x_test):\n",
    "        y_forloss = model.forward(data)\n",
    "\n",
    "        print(f'{i+1}.) {str(y_forloss)} {y_test[i]}')\n",
    "\n",
    "        if y_forloss.argmax().item() == y_test[i]:\n",
    "            correct += 1\n",
    "\n",
    "print(correct)"
   ]
  },
  {
   "cell_type": "code",
   "execution_count": 357,
   "metadata": {},
   "outputs": [
    {
     "name": "stdout",
     "output_type": "stream",
     "text": [
      "tensor([  8.9298,   2.8073, -10.7337])\n"
     ]
    }
   ],
   "source": [
    "new_data = torch.tensor([4.7,3.2,1.3,0.2])\n",
    "with torch.no_grad():\n",
    "    print(model(new_data))"
   ]
  },
  {
   "cell_type": "code",
   "execution_count": null,
   "metadata": {},
   "outputs": [],
   "source": []
  },
  {
   "cell_type": "code",
   "execution_count": null,
   "metadata": {},
   "outputs": [],
   "source": []
  },
  {
   "cell_type": "code",
   "execution_count": null,
   "metadata": {},
   "outputs": [],
   "source": []
  },
  {
   "cell_type": "code",
   "execution_count": null,
   "metadata": {},
   "outputs": [],
   "source": []
  },
  {
   "cell_type": "code",
   "execution_count": null,
   "metadata": {},
   "outputs": [],
   "source": []
  }
 ],
 "metadata": {
  "kernelspec": {
   "display_name": "Python 3",
   "language": "python",
   "name": "python3"
  },
  "language_info": {
   "codemirror_mode": {
    "name": "ipython",
    "version": 3
   },
   "file_extension": ".py",
   "mimetype": "text/x-python",
   "name": "python",
   "nbconvert_exporter": "python",
   "pygments_lexer": "ipython3",
   "version": "3.11.4"
  }
 },
 "nbformat": 4,
 "nbformat_minor": 2
}
